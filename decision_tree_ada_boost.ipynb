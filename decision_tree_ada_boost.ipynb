{
 "cells": [
  {
   "cell_type": "code",
   "execution_count": 5,
   "metadata": {},
   "outputs": [
    {
     "data": {
      "text/plain": [
       "(2975, 11)"
      ]
     },
     "execution_count": 5,
     "metadata": {},
     "output_type": "execute_result"
    }
   ],
   "source": [
    "import numpy as np\n",
    "import pandas as pd\n",
    "import matplotlib.pyplot as plt\n",
    "from ML_utils import load_data,load_data_test_set, total_day_eve_night_grouping\n",
    "df =pd.read_csv('train.csv')\n",
    "\n",
    "### UNCOMMENT THIS PART TO GROUP FEATURES\n",
    "feature_engineering = True\n",
    "df=total_day_eve_night_grouping(df,grouping=feature_engineering)\n",
    "\n",
    "exclude_list = ['state','area_code']\n",
    "\n",
    "# exclude_list = [feature_name for feature_name in df.columns if feature_name not in['number_vmail_messages','number_customer_service_calls','total_charges','churn']]\n",
    "\n",
    "one_hot_on = True\n",
    "normalize_on = True\n",
    "oversample_on=True\n",
    "\n",
    "\n",
    "###################\n",
    "#### LOAD DATA ####\n",
    "\n",
    "X_train,y_train,X_val,y_val,X_test,y_test,columns = load_data(df,exclude=exclude_list,one_hot=one_hot_on,normalize_=normalize_on,oversample=oversample_on)\n",
    "\n",
    "\n",
    "X_train.shape\n",
    "\n"
   ]
  },
  {
   "cell_type": "code",
   "execution_count": 6,
   "metadata": {},
   "outputs": [],
   "source": [
    "##implementing adaboost\n",
    "from sklearn.tree import DecisionTreeRegressor,DecisionTreeClassifier\n",
    "\n",
    "from sklearn.metrics import accuracy_score\n",
    "import numpy as np\n",
    "\n",
    "def predict(X,epoch,weak_learners,importances):\n",
    "    y_pred=np.zeros(X.shape[0])\n",
    "    for i in range(epoch):\n",
    "        prediction=weak_learners[i].predict(X)\n",
    "        prediction[prediction>0.5]=1\n",
    "        prediction[prediction<=0.5]=-1\n",
    "        y_pred+=importances[i]*prediction\n",
    "    y_pred[y_pred>=0]=1\n",
    "    y_pred[y_pred<0]=0\n",
    "    return y_pred\n"
   ]
  },
  {
   "cell_type": "code",
   "execution_count": 7,
   "metadata": {},
   "outputs": [
    {
     "name": "stdout",
     "output_type": "stream",
     "text": [
      "0.9167974882260597\n",
      "10\n"
     ]
    }
   ],
   "source": [
    "\n",
    "epoch_list=[10,20,50,100,400]\n",
    "\n",
    "train_examples_length=X_train.shape[0]\n",
    "def ada_boosting(X_train,y_train,epoch_list,weak_learners=[],importances=[],best_acc=0,best_epoch=0):\n",
    "    y_train_new=y_train.copy()\n",
    "    y_train_new[y_train_new==0]=-1\n",
    "    \n",
    "    \n",
    "    for epoch in epoch_list:\n",
    "        for i in range(epoch):\n",
    "            \n",
    "            W=np.ones(train_examples_length)/train_examples_length\n",
    "        \n",
    "            \n",
    "            tree=DecisionTreeClassifier(max_depth=2)\n",
    "            tree.fit(X_train,y_train)\n",
    "            y_pred=tree.predict(X_train)\n",
    "            y_pred[y_pred==0]=-1\n",
    "    \n",
    "            error=0\n",
    "            for i in range(len(y_pred)):\n",
    "                count_W=int(y_pred[i]!=y_train_new[i])\n",
    "                \n",
    "                error+=W[i]*count_W\n",
    "            \n",
    "            importance=0.5*np.log((1-error)/error)\n",
    "            importance=importance\n",
    "        \n",
    "            importances.append(importance)\n",
    "            weak_learners.append(tree)\n",
    "          \n",
    "                \n",
    "            \n",
    "            for i in range(train_examples_length):\n",
    "                W[i]=W[i]*np.exp(-importance*y_train_new[i]*y_pred[i])\n",
    "                \n",
    "            \n",
    "            W=W/np.sum(W)\n",
    "            \n",
    "    \n",
    "            indices=np.random.choice(X_train.shape[0],size=train_examples_length,p=W.flatten())\n",
    "            \n",
    "            \n",
    "            \n",
    "            X_train=X_train[indices,:]\n",
    "    \n",
    "            y_train=y_train[indices,:]\n",
    "            y_train_new=y_train_new[indices,:]\n",
    "          \n",
    "        acc_valid=accuracy_score(y_val,predict(X_val,epoch,weak_learners,importances))\n",
    "        if acc_valid>best_acc:\n",
    "                best_acc=acc_valid\n",
    "                best_epoch=epoch\n",
    "    \n",
    "    return {'weak_learners':weak_learners,'importances':importances,'best_acc':best_acc,'best_epoch':best_epoch}\n",
    "    \n",
    "results= ada_boosting(X_train,y_train,epoch_list=epoch_list)\n",
    "\n",
    "print(results['best_acc'])\n",
    "print(results['best_epoch'])\n",
    "\n"
   ]
  },
  {
   "cell_type": "code",
   "execution_count": 8,
   "metadata": {},
   "outputs": [],
   "source": [
    "### USE THE MODEL ON THE TEST SET\n",
    "df_test=pd.read_csv('test.csv')\n",
    "\n",
    "df_test=total_day_eve_night_grouping(df_test,grouping=feature_engineering)\n",
    "\n",
    "\n",
    "X_test_output=load_data_test_set(df_test,exclude=exclude_list+['id'],one_hot=one_hot_on,normalize_=normalize_on)\n",
    "\n",
    "y_pred_output=predict(X_test_output,results['best_epoch'],results['weak_learners'],results['importances'])\n",
    "y_pred_output=np.where(y_pred_output>0.5,'yes', 'no')\n",
    "y_pred_output=y_pred_output.reshape(-1,)\n",
    "id_column = np.arange(1, y_pred_output.shape[0] + 1)\n",
    "\n",
    "\n",
    "# Create a DataFrame\n",
    "df_output = pd.DataFrame({\n",
    "    'id': id_column,\n",
    "    'churn': y_pred_output\n",
    "})\n",
    "\n",
    "\n",
    "# Save the DataFrame as a CSV file\n",
    "df_output.to_csv('output_ada_boost.csv', index=False)"
   ]
  }
 ],
 "metadata": {
  "kernelspec": {
   "display_name": "tf",
   "language": "python",
   "name": "python3"
  },
  "language_info": {
   "codemirror_mode": {
    "name": "ipython",
    "version": 3
   },
   "file_extension": ".py",
   "mimetype": "text/x-python",
   "name": "python",
   "nbconvert_exporter": "python",
   "pygments_lexer": "ipython3",
   "version": "3.9.19"
  }
 },
 "nbformat": 4,
 "nbformat_minor": 2
}
