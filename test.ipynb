{
 "cells": [
  {
   "cell_type": "code",
   "execution_count": 1,
   "metadata": {},
   "outputs": [
    {
     "name": "stderr",
     "output_type": "stream",
     "text": [
      "/tmp/ipykernel_26510/3583827817.py:12: DeprecationWarning: `np.float` is a deprecated alias for the builtin `float`. To silence this warning, use `float` by itself. Doing this will not modify any behavior and is safe. If you specifically wanted the numpy scalar type, use `np.float64` here.\n",
      "Deprecated in NumPy 1.20; for more details and guidance: https://numpy.org/devdocs/release/1.20.0-notes.html#deprecations\n",
      "  data = data.astype(np.float)\n"
     ]
    }
   ],
   "source": [
    "#process for test set\n",
    "import numpy as np\n",
    "import pandas as pd\n",
    "train_df = pd.read_csv('test.csv')\n",
    "df = train_df.copy()\n",
    "df.drop(['state','area_code','id'], axis=1, inplace=True)\n",
    "data=np.array(df)\n",
    "data[data=='no']=0\n",
    "data[data=='yes']=1\n",
    "\n",
    "\n",
    "data = data.astype(np.float)\n",
    "\n",
    "def normalize(data,features):\n",
    "    for i in features:\n",
    "        data[:,i] = (data[:,i] - data[:,i].mean()) / data[:,i].std()\n",
    "    \n",
    "    return data\n",
    "data = normalize(data,[0,3,4,5,6,7,8,9,10,11,12,13,14,16])\n",
    "\n",
    "summary_df = pd.DataFrame({\n",
    "    'Column': df.columns,\n",
    "    'Min': data.min(axis=0),\n",
    "    'Max': data.max(axis=0)\n",
    "})\n",
    "\n",
    "np.save('test.npy',data)"
   ]
  },
  {
   "cell_type": "code",
   "execution_count": 2,
   "metadata": {},
   "outputs": [
    {
     "name": "stdout",
     "output_type": "stream",
     "text": [
      "Accuracy on test set: 0.7414671280276817\n",
      "Accuracy on validation set: 0.7465937716262976\n"
     ]
    }
   ],
   "source": [
    "import numpy as np\n",
    "import matplotlib.pyplot as plt\n",
    "\n",
    "data=np.load('churn_data_full.npz',allow_pickle=True)\n",
    "\n",
    "model=np.load('churn_model_full.npz',allow_pickle=True)\n",
    "W=model['W']\n",
    "b=model['b']\n",
    "\n",
    "\n",
    "def sigmoid(x):\n",
    "    return 1/(1+np.exp(-x))\n",
    "\n",
    "def forward(X_i,W,b):\n",
    "    return sigmoid(np.dot(X_i,W)+b)\n",
    "\n",
    "\n",
    "\n",
    "\n",
    "def accuracy(W,b,X,y):\n",
    "    y_hat = forward(X, W, b)\n",
    "    y_hat = np.round(y_hat)\n",
    "    return np.mean(y_hat == y)\n",
    "\n",
    "\n",
    "X_valid=data['X_valid']\n",
    "y_valid=data['y_valid']\n",
    "X_test=data['X_test']\n",
    "y_test=data['y_test']\n",
    "\n",
    "print(f\"Accuracy on test set: {accuracy(W, b, X_test, y_test)}\")\n",
    "\n",
    "print(f\"Accuracy on validation set: {accuracy(W, b, X_valid, y_valid)}\")\n",
    "\n",
    "# y_pred = np.where(y_pred >= 0.5, 'yes', 'no')\n",
    "\n",
    "\n",
    "# df = pd.DataFrame(y_pred, columns=['churn'])\n",
    "\n",
    "# # Add an 'id' column\n",
    "# df.insert(0, 'id', range(1, len(df) + 1))\n",
    "\n",
    "# # Save the DataFrame to a CSV file\n",
    "# df.to_csv('output.csv', index=False)"
   ]
  }
 ],
 "metadata": {
  "kernelspec": {
   "display_name": "tf",
   "language": "python",
   "name": "python3"
  },
  "language_info": {
   "codemirror_mode": {
    "name": "ipython",
    "version": 3
   },
   "file_extension": ".py",
   "mimetype": "text/x-python",
   "name": "python",
   "nbconvert_exporter": "python",
   "pygments_lexer": "ipython3",
   "version": "3.9.19"
  }
 },
 "nbformat": 4,
 "nbformat_minor": 2
}
