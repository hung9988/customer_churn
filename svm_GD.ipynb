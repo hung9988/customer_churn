{
 "cells": [
  {
   "cell_type": "code",
   "execution_count": 71,
   "metadata": {},
   "outputs": [],
   "source": [
    "import numpy as np\n",
    "import pandas as pd\n",
    "import matplotlib.pyplot as plt\n",
    "from ML_utils import load_data,load_data_test_set, total_day_eve_night_grouping\n",
    "from sklearn.preprocessing import PolynomialFeatures\n",
    "df =pd.read_csv('train.csv')\n",
    "\n",
    "### UNCOMMENT THIS PART TO GROUP FEATURES\n",
    "feature_engineering = True\n",
    "df=total_day_eve_night_grouping(df,grouping=feature_engineering)\n",
    "exclude_list = [feature_name for feature_name in df.columns if feature_name not in['number_vmail_messages','number_customer_service_calls','total_charges','churn']]\n",
    "one_hot_on = True\n",
    "normalize_on = True\n",
    "oversample_on=True\n",
    "\n",
    "###################\n",
    "#### LOAD DATA ####\n",
    "\n",
    "X_train,y_train,X_val,y_val,X_test,y_test,columns = load_data(df,exclude=exclude_list,one_hot=one_hot_on,normalize_=normalize_on,oversample=oversample_on)\n",
    "\n",
    "\n",
    "y_train[y_train==0]=-1\n",
    "\n",
    "poly = PolynomialFeatures(degree=2)\n",
    "\n",
    "X_train = poly.fit_transform(X_train)\n",
    "\n",
    "X_train=np.concatenate((X_train,np.ones((X_train.shape[0],1))),axis=1)\n",
    "\n",
    "\n",
    "X_val = poly.fit_transform(X_val)\n",
    "\n"
   ]
  },
  {
   "cell_type": "code",
   "execution_count": 72,
   "metadata": {},
   "outputs": [],
   "source": [
    "lr_list=[0.01,0.1,1]\n",
    "C=100\n",
    "epoch_list=[100,1000,10000]\n"
   ]
  },
  {
   "cell_type": "code",
   "execution_count": 73,
   "metadata": {},
   "outputs": [],
   "source": [
    "from sklearn.metrics import accuracy_score"
   ]
  },
  {
   "cell_type": "code",
   "execution_count": 74,
   "metadata": {},
   "outputs": [],
   "source": [
    "def cost(w,Z,lam):\n",
    "    Z=Z.T\n",
    "    u = w.T.dot(Z) # as in (23)\n",
    "    return (np.sum(np.maximum(0, 1 - u)) + \\\n",
    "        .5*lam*np.sum(w*w)) - .5*lam*w[-1]*w[-1] # no bias \n",
    "\n",
    "\n",
    "def grad(w,X_train,y_train,lam=0.1):\n",
    "    Z=y_train*X_train\n",
    "    \n",
    "    Z=Z.T\n",
    " \n",
    "    u = w.T.dot(Z) # as in (23)\n",
    "    H = np.where(u < 1)[1]\n",
    "    ZS = Z[:, H]\n",
    "\n",
    "    g = (-np.sum(ZS, axis = 1, keepdims = True) + lam*w)\n",
    "    g[-1] -= lam*w[-1] # no weight decay on bias\n",
    "    return g\n",
    "\n",
    "eps = 1e-4\n",
    "\n",
    "def grad_descent(w0, X_train, y_train,lr=0.01,lam=0.1):\n",
    "    best_accuracy = -1\n",
    "\n",
    "    w = w0\n",
    "    it = 0 \n",
    "    while it < 100000:\n",
    "        it = it + 1\n",
    "        g = grad(w,X_train,y_train,lam)\n",
    "        w -= lr*g\n",
    "        y_pred=predict(w,X_val)\n",
    "       \n",
    "        if (it % 10000) == 1:\n",
    "            Z=y_train*X_train\n",
    "            print('it =', it, ', cost =', cost(w,Z,lam)[0])\n",
    "        if np.linalg.norm(g) < 1e-5:\n",
    "            break \n",
    "    return w\n",
    "\n",
    "def predict(w,X):\n",
    "    w=w[:-1]\n",
    "    b=w[-1]\n",
    "    Z=X.dot(w)+b\n",
    "    Z=np.sign(Z)\n",
    "    Z[Z==-1]=0\n",
    "    return Z\n"
   ]
  },
  {
   "cell_type": "code",
   "execution_count": 75,
   "metadata": {},
   "outputs": [
    {
     "name": "stdout",
     "output_type": "stream",
     "text": [
      "it = 1 , cost = 37160.754151263616\n",
      "it = 10001 , cost = 9887.419359945967\n",
      "it = 20001 , cost = 7770.5591109222\n",
      "it = 30001 , cost = 6484.983241182017\n",
      "it = 40001 , cost = 13067.531598675352\n",
      "it = 50001 , cost = 10453.625862226501\n",
      "it = 60001 , cost = 96039.91336395474\n",
      "it = 70001 , cost = 8070.748429392319\n",
      "it = 80001 , cost = 12303.909311296871\n",
      "it = 90001 , cost = 36436.06836231387\n"
     ]
    }
   ],
   "source": [
    "w0=np.random.randn(X_train.shape[1],1)\n",
    "\n",
    "w=grad_descent(w0,X_train,y_train,lr=0.01,lam=1./1)"
   ]
  },
  {
   "cell_type": "code",
   "execution_count": 76,
   "metadata": {},
   "outputs": [],
   "source": [
    "y_pred=predict(w,X_val)\n"
   ]
  },
  {
   "cell_type": "code",
   "execution_count": 77,
   "metadata": {},
   "outputs": [
    {
     "data": {
      "text/plain": [
       "(637, 1)"
      ]
     },
     "execution_count": 77,
     "metadata": {},
     "output_type": "execute_result"
    }
   ],
   "source": [
    "y_pred.shape"
   ]
  },
  {
   "cell_type": "code",
   "execution_count": 80,
   "metadata": {},
   "outputs": [
    {
     "name": "stdout",
     "output_type": "stream",
     "text": [
      "              precision    recall  f1-score   support\n",
      "\n",
      "         0.0       0.97      0.07      0.13       537\n",
      "         1.0       0.17      0.99      0.28       100\n",
      "\n",
      "    accuracy                           0.21       637\n",
      "   macro avg       0.57      0.53      0.20       637\n",
      "weighted avg       0.85      0.21      0.15       637\n",
      "\n"
     ]
    }
   ],
   "source": [
    "from sklearn.metrics import classification_report,accuracy_score\n",
    "print(classification_report(y_val,y_pred))"
   ]
  },
  {
   "cell_type": "code",
   "execution_count": 79,
   "metadata": {},
   "outputs": [],
   "source": [
    "### USE THE MODEL ON THE TEST SET\n",
    "df_test=pd.read_csv('test.csv')\n",
    "\n",
    "df_test=total_day_eve_night_grouping(df_test,grouping=feature_engineering)\n",
    "\n",
    "\n",
    "X_test_output=load_data_test_set(df_test,exclude=exclude_list+['id'],one_hot=one_hot_on,normalize_=normalize_on)\n",
    "X_test_output = poly.fit_transform(X_test_output)\n",
    "y_pred_output=predict(w,X_test_output)\n",
    "y_pred=np.sign(y_pred)\n",
    "y_pred[y_pred==-1]=0\n",
    "\n",
    "y_pred_output=np.where(y_pred_output>0.5,'yes', 'no')\n",
    "y_pred_output=y_pred_output.reshape(-1,)\n",
    "id_column = np.arange(1, y_pred_output.shape[0] + 1)\n",
    "\n",
    "\n",
    "# Create a DataFrame\n",
    "df_output = pd.DataFrame({\n",
    "    'id': id_column,\n",
    "    'churn': y_pred_output\n",
    "})\n",
    "\n",
    "\n",
    "# Save the DataFrame as a CSV file\n",
    "df_output.to_csv('output_svm_GD.csv', index=False)"
   ]
  }
 ],
 "metadata": {
  "kernelspec": {
   "display_name": "tf",
   "language": "python",
   "name": "python3"
  },
  "language_info": {
   "codemirror_mode": {
    "name": "ipython",
    "version": 3
   },
   "file_extension": ".py",
   "mimetype": "text/x-python",
   "name": "python",
   "nbconvert_exporter": "python",
   "pygments_lexer": "ipython3",
   "version": "3.9.19"
  }
 },
 "nbformat": 4,
 "nbformat_minor": 2
}
