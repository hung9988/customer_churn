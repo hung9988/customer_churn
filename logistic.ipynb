{
 "cells": [
  {
   "cell_type": "code",
   "execution_count": 3,
   "metadata": {},
   "outputs": [
    {
     "ename": "TypeError",
     "evalue": "only integer scalar arrays can be converted to a scalar index",
     "output_type": "error",
     "traceback": [
      "\u001b[0;31m---------------------------------------------------------------------------\u001b[0m",
      "\u001b[0;31mTypeError\u001b[0m                                 Traceback (most recent call last)",
      "Cell \u001b[0;32mIn[3], line 36\u001b[0m\n\u001b[1;32m     33\u001b[0m     \u001b[38;5;28;01mreturn\u001b[39;00m np\u001b[38;5;241m.\u001b[39mmean((Z\u001b[38;5;241m-\u001b[39mY)) \n\u001b[1;32m     35\u001b[0m \u001b[38;5;28;01mfor\u001b[39;00m i \u001b[38;5;129;01min\u001b[39;00m degree:\n\u001b[0;32m---> 36\u001b[0m     X_train_temp\u001b[38;5;241m=\u001b[39m\u001b[43mX_train\u001b[49m\u001b[43m[\u001b[49m\u001b[43m:\u001b[49m\u001b[43m,\u001b[49m\u001b[43m:\u001b[49m\u001b[43mdegree\u001b[49m\u001b[43m]\u001b[49m\n\u001b[1;32m     37\u001b[0m     W,b \u001b[38;5;241m=\u001b[39m init_weight(i)\n\u001b[1;32m     38\u001b[0m     F_w_b\u001b[38;5;241m=\u001b[39m np\u001b[38;5;241m.\u001b[39mdot(W,X_train_temp) \u001b[38;5;241m+\u001b[39m b\n",
      "\u001b[0;31mTypeError\u001b[0m: only integer scalar arrays can be converted to a scalar index"
     ]
    }
   ],
   "source": [
    "import numpy as np\n",
    "import matplotlib.pyplot as plt\n",
    "\n",
    "\n",
    "data = np.load('dataset.npz',allow_pickle=True)\n",
    "X_train=data['X_train']\n",
    "y_train=data['y_train']\n",
    "X_val=data['X_validation']\n",
    "y_val=data['y_validation']\n",
    "degree = np.arange(1,20)\n",
    "learning_rate=0.01\n",
    "epochs=10000\n",
    "\n",
    "def sigmoid(x):\n",
    "    return 1/(1+np.exp(-x))\n",
    "\n",
    "def binary_cross_entropy(y_pred,y):\n",
    "    return -np.mean(y*np.log(y_pred)+(1-y)*np.log(1-y_pred))\n",
    "\n",
    "def accuracy(y_pred,y):\n",
    "    return np.mean(y_pred==y)\n",
    "\n",
    "\n",
    "def init_weight(weight_num):\n",
    "    weights=np.zeros(weight_num)\n",
    "    bias = 0\n",
    "    return weights,bias \n",
    "\n",
    "def derivative_wrt_W(Z,X,Y):\n",
    "    return np.mean((Z-Y)*X)\n",
    "\n",
    "def derivative_wrt_b(Z,Y):\n",
    "    return np.mean((Z-Y)) \n",
    "\n",
    "for i in degree:\n",
    "    X_train_temp=X_train[:,:i]\n",
    "    W,b = init_weight(i)\n",
    "    F_w_b= np.dot(W,X_train_temp) + b\n",
    "    Z_w_b=sigmoid(F_w_b)\n",
    "    dJ_dW=derivative_wrt_W(Z_w_b,X_train_temp,y_train)\n",
    "    dJ_db=derivative_wrt_b(Z_w_b,y_train)\n",
    "    W=W-learning_rate*dJ_dW\n",
    "    b=b-learning_rate*dJ_db\n",
    "\n",
    "\n",
    "\n",
    "\n",
    "\n",
    "\n"
   ]
  }
 ],
 "metadata": {
  "kernelspec": {
   "display_name": "d2l",
   "language": "python",
   "name": "python3"
  },
  "language_info": {
   "codemirror_mode": {
    "name": "ipython",
    "version": 3
   },
   "file_extension": ".py",
   "mimetype": "text/x-python",
   "name": "python",
   "nbconvert_exporter": "python",
   "pygments_lexer": "ipython3",
   "version": "3.9.18"
  }
 },
 "nbformat": 4,
 "nbformat_minor": 2
}
