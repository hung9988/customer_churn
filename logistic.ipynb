{
 "cells": [
  {
   "cell_type": "code",
   "execution_count": 3,
   "metadata": {},
   "outputs": [
    {
     "ename": "TypeError",
     "evalue": "loop of ufunc does not support argument 0 of type float which has no callable exp method",
     "output_type": "error",
     "traceback": [
      "\u001b[0;31m---------------------------------------------------------------------------\u001b[0m",
      "\u001b[0;31mAttributeError\u001b[0m                            Traceback (most recent call last)",
      "\u001b[0;31mAttributeError\u001b[0m: 'float' object has no attribute 'exp'",
      "\nThe above exception was the direct cause of the following exception:\n",
      "\u001b[0;31mTypeError\u001b[0m                                 Traceback (most recent call last)",
      "Cell \u001b[0;32mIn[3], line 39\u001b[0m\n\u001b[1;32m     37\u001b[0m X_train_temp\u001b[38;5;241m=\u001b[39mX_train\u001b[38;5;241m.\u001b[39mT\n\u001b[1;32m     38\u001b[0m F_w_b\u001b[38;5;241m=\u001b[39m np\u001b[38;5;241m.\u001b[39mdot(W,X_train_temp) \u001b[38;5;241m+\u001b[39m b\n\u001b[0;32m---> 39\u001b[0m Z_w_b\u001b[38;5;241m=\u001b[39m\u001b[43msigmoid\u001b[49m\u001b[43m(\u001b[49m\u001b[43mF_w_b\u001b[49m\u001b[43m)\u001b[49m\n\u001b[1;32m     40\u001b[0m dJ_dW\u001b[38;5;241m=\u001b[39mderivative_wrt_W(Z_w_b,X_train_temp,y_train)\n\u001b[1;32m     41\u001b[0m dJ_db\u001b[38;5;241m=\u001b[39mderivative_wrt_b(Z_w_b,y_train)\n",
      "Cell \u001b[0;32mIn[3], line 15\u001b[0m, in \u001b[0;36msigmoid\u001b[0;34m(x)\u001b[0m\n\u001b[1;32m     14\u001b[0m \u001b[38;5;28;01mdef\u001b[39;00m \u001b[38;5;21msigmoid\u001b[39m(x):\n\u001b[0;32m---> 15\u001b[0m     \u001b[38;5;28;01mreturn\u001b[39;00m \u001b[38;5;241m1\u001b[39m\u001b[38;5;241m/\u001b[39m(\u001b[38;5;241m1\u001b[39m\u001b[38;5;241m+\u001b[39m\u001b[43mnp\u001b[49m\u001b[38;5;241;43m.\u001b[39;49m\u001b[43mexp\u001b[49m\u001b[43m(\u001b[49m\u001b[38;5;241;43m-\u001b[39;49m\u001b[43mx\u001b[49m\u001b[43m)\u001b[49m)\n",
      "\u001b[0;31mTypeError\u001b[0m: loop of ufunc does not support argument 0 of type float which has no callable exp method"
     ]
    }
   ],
   "source": [
    "import numpy as np\n",
    "import matplotlib.pyplot as plt\n",
    "\n",
    "\n",
    "data = np.load('dataset_one_hot.npz',allow_pickle=True)\n",
    "X_train=data['X_train']\n",
    "y_train=data['y_train']\n",
    "X_val=data['X_validation']\n",
    "y_val=data['y_validation']\n",
    "\n",
    "learning_rate=0.01\n",
    "epochs=10000\n",
    "\n",
    "def sigmoid(x):\n",
    "    return 1/(1+np.exp(-x))\n",
    "\n",
    "def binary_cross_entropy(y_pred,y):\n",
    "    return -np.mean(y*np.log(y_pred)+(1-y)*np.log(1-y_pred))\n",
    "\n",
    "def accuracy(predictions, Y):\n",
    "    print(predictions, Y)\n",
    "    return (np.sum(predictions == Y) / Y.size)*100\n",
    "\n",
    "def init_weight(weight_num):\n",
    "    weights=np.zeros(weight_num)\n",
    "    bias = 0.\n",
    "    return weights,bias \n",
    "\n",
    "def derivative_wrt_W(Z,X,Y):\n",
    "    return np.mean((Z-Y)*X)\n",
    "\n",
    "def derivative_wrt_b(Z,Y):\n",
    "    return np.mean((Z-Y)) \n",
    "m,n=X_train.shape\n",
    "W,b = init_weight(n)\n",
    "for i in range(epochs):\n",
    "    X_train=np.array(X_train,dtype=float)\n",
    "    X_train_temp=X_train.T\n",
    "    F_w_b= np.dot(W,X_train_temp) + b\n",
    "    Z_w_b=sigmoid(F_w_b)\n",
    "    dJ_dW=derivative_wrt_W(Z_w_b,X_train_temp,y_train)\n",
    "    dJ_db=derivative_wrt_b(Z_w_b,y_train)\n",
    "    W=W-learning_rate*dJ_dW\n",
    "    b=b-learning_rate*dJ_db\n",
    "    \n",
    "    if i%1000==0:\n",
    "        print(binary_cross_entropy(Z_w_b,y_train))\n",
    "        print(accuracy(Z_w_b,y_train))\n",
    "        \n",
    "print(b)\n",
    "\n",
    "\n",
    "\n",
    "\n",
    "\n",
    "\n"
   ]
  },
  {
   "cell_type": "code",
   "execution_count": 27,
   "metadata": {},
   "outputs": [
    {
     "name": "stdout",
     "output_type": "stream",
     "text": [
      "(3400, 60)\n"
     ]
    }
   ],
   "source": [
    "import numpy as np\n",
    "import matplotlib.pyplot as plt\n",
    "import pickle\n",
    "from features_selection import feature_selection\n",
    "with open('features_train.pkl', 'rb') as f:\n",
    "    data = pickle.load(f)\n",
    "    \n",
    "\n",
    "X_train = feature_selection([np.arange(5)],data)\n",
    "\n",
    "print(X_train.shape)\n",
    "\n",
    "\n",
    "\n",
    "\n",
    "\n",
    "\n"
   ]
  }
 ],
 "metadata": {
  "kernelspec": {
   "display_name": "d2l",
   "language": "python",
   "name": "python3"
  },
  "language_info": {
   "codemirror_mode": {
    "name": "ipython",
    "version": 3
   },
   "file_extension": ".py",
   "mimetype": "text/x-python",
   "name": "python",
   "nbconvert_exporter": "python",
   "pygments_lexer": "ipython3",
   "version": "3.11.8"
  }
 },
 "nbformat": 4,
 "nbformat_minor": 2
}
