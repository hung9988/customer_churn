{
 "cells": [
  {
   "cell_type": "code",
   "execution_count": null,
   "metadata": {},
   "outputs": [],
   "source": [
    "import numpy as np\n",
    "import pandas as pd\n",
    "import matplotlib.pyplot as plt\n",
    "from ML_utils import load_data,load_data_test_set, total_day_eve_night_grouping\n",
    "df =pd.read_csv('train.csv')\n",
    "\n",
    "### UNCOMMENT THIS PART TO GROUP FEATURES\n",
    "feature_engineering = True\n",
    "df=total_day_eve_night_grouping(df,grouping=feature_engineering)\n",
    "exclude_list = [feature_name for feature_name in df.columns if feature_name not in['number_vmail_messages','number_customer_service_calls','churn']]\n",
    "one_hot_on = True\n",
    "normalize_on = True\n",
    "oversample_on=True\n",
    "\n",
    "\n",
    "###################\n",
    "#### LOAD DATA ####\n",
    "\n",
    "X_train,y_train,X_val,y_val,X_test,y_test,columns = load_data(df,exclude=exclude_list,one_hot=one_hot_on,normalize_=normalize_on,oversample=oversample_on)\n",
    "\n",
    "\n",
    "y_train[y_train==0]=-1\n"
   ]
  }
 ],
 "metadata": {
  "language_info": {
   "name": "python"
  }
 },
 "nbformat": 4,
 "nbformat_minor": 2
}
