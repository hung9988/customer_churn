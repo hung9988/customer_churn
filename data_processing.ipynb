{
 "cells": [
  {
   "cell_type": "code",
   "execution_count": 4,
   "metadata": {},
   "outputs": [],
   "source": [
    "#DATA PROCESSING\n",
    "import numpy as np\n",
    "import matplotlib.pyplot as plt\n",
    "import pandas as pd\n",
    "from pprint import pprint\n",
    "raw_data = pd.read_csv('train.csv')\n",
    "pretty_df = raw_data.head(10).to_string(index=False)\n",
    "\n",
    "\n",
    "raw_data = np.array(raw_data)\n",
    "\n",
    "raw_data= np.array(raw_data)\n",
    "\n",
    "#SPLIT THE DATA INTO TRAIN AND VALIDATION SET \n",
    "\n",
    "split = 0.8\n",
    "\n",
    "train_set = raw_data[:int(split*len(raw_data))]\n",
    "validation_set = raw_data[int(split*len(raw_data)):]\n",
    "\n",
    "# SPLIT THE DATA INTO X AND Y\n",
    "X_train = train_set[:,:-1]\n",
    "y_train = train_set[:,-1]\n",
    "X_validation = validation_set[:,:-1]\n",
    "y_validation = validation_set[:,-1]\n",
    "\n",
    "#ONE HOT ENCODING CATEGORICAL DATA\n",
    "\n",
    "def one_hot(X_train):\n",
    "    m,n=X_train.shape\n",
    "    X_train_new = np.empty((m,0))\n",
    "    index=0\n",
    "    for i in X_train[0,:]:\n",
    "        if isinstance(i,str):\n",
    "            uniques, ids= np.unique(X_train[:,index], return_inverse=True)\n",
    "            one_hot_temp = np.zeros((m, len(uniques)))\n",
    "            one_hot_temp[np.arange(m), ids] = 1\n",
    "            X_train_new=np.concatenate((X_train_new,one_hot_temp),axis=1)\n",
    "        else:\n",
    "            X_train_new= np.concatenate((X_train_new,X_train[:,index].reshape(-1,1)),axis=1)\n",
    "        index+=1\n",
    "    return X_train_new    \n",
    "\n",
    "\n",
    "X_train = one_hot(X_train)\n",
    "X_validation=one_hot(X_validation)\n",
    "\n",
    "np.savez('dataset_one_hot.npz', X_train=X_train, y_train=y_train, X_validation=X_validation, y_validation=y_validation)\n",
    "               \n",
    "\n"
   ]
  },
  {
   "cell_type": "code",
   "execution_count": 7,
   "metadata": {},
   "outputs": [
    {
     "name": "stdout",
     "output_type": "stream",
     "text": [
      "(3400, 73)\n"
     ]
    }
   ],
   "source": [
    "import numpy as np\n",
    "import matplotlib.pyplot as plt\n",
    "\n",
    "data = np.load('dataset_one_hot.npz',allow_pickle=True)\n",
    "\n",
    "X_train=data[\"X_train\"]\n",
    "y_train=data['y_train']\n",
    "\n"
   ]
  }
 ],
 "metadata": {
  "kernelspec": {
   "display_name": "venv",
   "language": "python",
   "name": "python3"
  },
  "language_info": {
   "codemirror_mode": {
    "name": "ipython",
    "version": 3
   },
   "file_extension": ".py",
   "mimetype": "text/x-python",
   "name": "python",
   "nbconvert_exporter": "python",
   "pygments_lexer": "ipython3",
   "version": "3.9.18"
  }
 },
 "nbformat": 4,
 "nbformat_minor": 2
}
