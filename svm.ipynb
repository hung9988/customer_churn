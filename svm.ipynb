{
 "cells": [
  {
   "cell_type": "code",
   "execution_count": 73,
   "metadata": {},
   "outputs": [],
   "source": [
    "import numpy as np\n",
    "import pandas as pd\n",
    "import matplotlib.pyplot as plt\n",
    "from ML_utils import load_data,load_data_test_set, total_day_eve_night_grouping\n",
    "df =pd.read_csv('train.csv')\n",
    "\n",
    "### UNCOMMENT THIS PART TO GROUP FEATURES\n",
    "feature_engineering = True\n",
    "df=total_day_eve_night_grouping(df,grouping=feature_engineering)\n",
    "exclude_list = [feature_name for feature_name in df.columns if feature_name not in['number_vmail_messages','number_customer_service_calls','total_charges','churn']]\n",
    "one_hot_on = True\n",
    "normalize_on = True\n",
    "oversample_on=True\n",
    "\n"
   ]
  },
  {
   "cell_type": "code",
   "execution_count": 74,
   "metadata": {},
   "outputs": [],
   "source": [
    "\n",
    "###################\n",
    "#### LOAD DATA ####\n",
    "\n",
    "X_train,y_train,X_val,y_val,X_test,y_test,columns = load_data(df,exclude=exclude_list,one_hot=one_hot_on,normalize_=normalize_on,oversample=oversample_on)\n",
    "\n",
    "\n",
    "y_train[y_train==0]=-1\n",
    "\n",
    "### kernel not trick\n",
    "\n",
    "# X_train=np.concatenate((X_train,X_train**3),axis=1)\n",
    "\n",
    "# X_val=np.concatenate((X_val,X_val**3),axis=1)\n",
    "# X_train.shape\n",
    "# X_train=X_train.astype(np.double)\n",
    "# y_train=y_train.astype(np.double)\n",
    "\n",
    "# indicies_0=np.where(y_train==0)[0]\n",
    "\n",
    "# indicies_1=np.where(y_train==1)[0]\n",
    "# N=indicies_0.shape[0]\n",
    "# M=indicies_1.shape[0]\n",
    "\n",
    "# X0=X_train[indicies_0]\n",
    "# X1=X_train[indicies_1]\n",
    "\n",
    "# X = np.concatenate((X0.T, X1.T), axis = 1)\n",
    "# y = np.concatenate((np.ones((1, N)), -1*np.ones((1, M))), axis = 1)"
   ]
  },
  {
   "cell_type": "code",
   "execution_count": 75,
   "metadata": {},
   "outputs": [],
   "source": [
    "# from sklearn.svm import SVC\n",
    "# from sklearn.metrics import accuracy_score\n",
    "# from sklearn.model_selection import GridSearchCV\n",
    "\n",
    "# # clf = SVC(kernel='poly',degree=3,coef0=1)\n",
    "# clf= SVC(kernel='poly',C=1)\n",
    "\n",
    "# clf.fit(X_train, y_train.reshape(-1,))\n",
    "\n",
    "# clf.predict(X_val)\n",
    "\n",
    "# print(accuracy_score(y_val,clf.predict(X_val)))"
   ]
  },
  {
   "cell_type": "code",
   "execution_count": 76,
   "metadata": {},
   "outputs": [],
   "source": [
    "def kernel(x,z,sigma=4):\n",
    "    n = x.shape[0]\n",
    "    m = z.shape[0]\n",
    "    xx = np.dot(np.sum(np.power(x, 2), 1).reshape(n, 1), np.ones((1, m)))\n",
    "    zz = np.dot(np.sum(np.power(z, 2), 1).reshape(m, 1), np.ones((1, n)))     \n",
    "    return np.exp(-(xx + zz.T - 2 * np.dot(x, z.T)) / (2 * sigma ** 2))"
   ]
  },
  {
   "cell_type": "code",
   "execution_count": 77,
   "metadata": {},
   "outputs": [],
   "source": [
    "import numpy as np\n",
    "from cvxopt import matrix, solvers\n",
    "\n",
    "X=X_train.astype(np.double)\n",
    "y=y_train.astype(np.double)\n",
    "C = 0.8\n",
    "m, n = X.shape\n",
    "K = kernel(X,X)\n",
    "P = matrix(np.matmul(y,y.T) * K)\n",
    "q = matrix(np.ones((m, 1)) * -1)\n",
    "A = matrix(y.reshape(1, -1))\n",
    "b = matrix(np.zeros(1))          \n",
    "G = matrix(np.vstack((np.eye(m) * -1, np.eye(m))))        \n",
    "h = matrix(np.hstack((np.zeros(m), np.ones(m) * C)))"
   ]
  },
  {
   "cell_type": "code",
   "execution_count": null,
   "metadata": {},
   "outputs": [],
   "source": []
  },
  {
   "cell_type": "code",
   "execution_count": 78,
   "metadata": {},
   "outputs": [
    {
     "name": "stdout",
     "output_type": "stream",
     "text": [
      "     pcost       dcost       gap    pres   dres\n",
      " 0: -1.5386e+03 -5.5722e+03  3e+04  3e+00  3e-14\n",
      " 1: -9.9206e+02 -3.9986e+03  5e+03  4e-01  2e-14\n",
      " 2: -9.1533e+02 -1.6497e+03  8e+02  3e-02  1e-14\n",
      " 3: -9.8892e+02 -1.2434e+03  3e+02  8e-03  1e-14\n",
      " 4: -1.0189e+03 -1.1589e+03  1e+02  4e-03  1e-14\n",
      " 5: -1.0418e+03 -1.1029e+03  6e+01  1e-03  1e-14\n",
      " 6: -1.0500e+03 -1.0856e+03  4e+01  7e-04  1e-14\n",
      " 7: -1.0553e+03 -1.0757e+03  2e+01  3e-04  1e-14\n",
      " 8: -1.0586e+03 -1.0697e+03  1e+01  2e-04  1e-14\n",
      " 9: -1.0596e+03 -1.0681e+03  9e+00  1e-04  1e-14\n",
      "10: -1.0614e+03 -1.0652e+03  4e+00  4e-05  1e-14\n",
      "11: -1.0624e+03 -1.0637e+03  1e+00  7e-06  1e-14\n",
      "12: -1.0628e+03 -1.0632e+03  3e-01  1e-06  1e-14\n",
      "13: -1.0629e+03 -1.0630e+03  1e-01  2e-07  1e-14\n",
      "14: -1.0630e+03 -1.0630e+03  1e-02  2e-08  2e-14\n",
      "15: -1.0630e+03 -1.0630e+03  8e-04  9e-10  2e-14\n",
      "Optimal solution found.\n"
     ]
    }
   ],
   "source": [
    "solution = solvers.qp(P, q, G, h, A, b)\n",
    "\n"
   ]
  },
  {
   "cell_type": "code",
   "execution_count": 79,
   "metadata": {},
   "outputs": [],
   "source": [
    "alphas = np.array(solution['x'])\n",
    "ind = (alphas > 1e-6).flatten()\n",
    "sv = X[ind]\n",
    "sv_y = y[ind]\n",
    "alphas = alphas[ind]"
   ]
  },
  {
   "cell_type": "code",
   "execution_count": 80,
   "metadata": {},
   "outputs": [],
   "source": [
    "b = sv_y - np.sum(kernel(sv,sv) * alphas * sv_y, axis=0)\n",
    "b = np.sum(b) / b.size"
   ]
  },
  {
   "cell_type": "code",
   "execution_count": 81,
   "metadata": {},
   "outputs": [],
   "source": [
    "prod = np.sum(kernel(sv,X_val) * alphas * sv_y, axis=0) + b\n",
    "predictions = np.sign(prod)"
   ]
  },
  {
   "cell_type": "code",
   "execution_count": 82,
   "metadata": {},
   "outputs": [
    {
     "name": "stdout",
     "output_type": "stream",
     "text": [
      "0.8398744113029827\n"
     ]
    }
   ],
   "source": [
    "predictions.reshape(-1,1)\n",
    "predictions[predictions==-1]=0\n",
    "from sklearn.metrics import accuracy_score\n",
    "\n",
    "print(accuracy_score(y_val,predictions))"
   ]
  },
  {
   "cell_type": "code",
   "execution_count": 83,
   "metadata": {},
   "outputs": [],
   "source": [
    "def predict(X):\n",
    "    prod = np.sum(kernel(sv,X) * alphas * sv_y, axis=0) + b\n",
    "    predictions = np.sign(prod) \n",
    "    predictions[predictions==-1]=0\n",
    "    return predictions"
   ]
  },
  {
   "cell_type": "code",
   "execution_count": 84,
   "metadata": {},
   "outputs": [],
   "source": [
    "### USE THE MODEL ON THE TEST SET\n",
    "df_test=pd.read_csv('test.csv')\n",
    "\n",
    "df_test=total_day_eve_night_grouping(df_test,grouping=feature_engineering)\n",
    "\n",
    "\n",
    "X_test_output=load_data_test_set(df_test,exclude=exclude_list+['id'],one_hot=one_hot_on,normalize_=normalize_on)\n",
    "\n",
    "y_pred_output = predict(X_test_output)\n",
    "\n",
    "y_pred_output=np.where(y_pred_output>0.5,'yes', 'no')\n",
    "y_pred_output=y_pred_output.reshape(-1,)\n",
    "id_column = np.arange(1, y_pred_output.shape[0] + 1)\n",
    "\n",
    "\n",
    "# Create a DataFrame\n",
    "df_output = pd.DataFrame({\n",
    "    'id': id_column,\n",
    "    'churn': y_pred_output\n",
    "})\n",
    "\n",
    "\n",
    "# Save the DataFrame as a CSV file\n",
    "df_output.to_csv('output_svm.csv', index=False)"
   ]
  }
 ],
 "metadata": {
  "kernelspec": {
   "display_name": "tf",
   "language": "python",
   "name": "python3"
  },
  "language_info": {
   "codemirror_mode": {
    "name": "ipython",
    "version": 3
   },
   "file_extension": ".py",
   "mimetype": "text/x-python",
   "name": "python",
   "nbconvert_exporter": "python",
   "pygments_lexer": "ipython3",
   "version": "3.9.19"
  }
 },
 "nbformat": 4,
 "nbformat_minor": 2
}
